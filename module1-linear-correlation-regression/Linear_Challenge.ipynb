{
 "cells": [
  {
   "cell_type": "markdown",
   "id": "88c836af",
   "metadata": {},
   "source": [
    "### Challenge:\n",
    "\n",
    "Using the dataset for [Cancer Incidence Rate](https://data.world/nrippner/ols-regression-challenge) (Also included in this repo):\n",
    " - Find the three features that have the highest positive Pearson correlation values with your selected target variable.\n",
    " - Determine the linear coefficients and the intercepts for each of the three features you selected. \n"
   ]
  },
  {
   "cell_type": "code",
   "execution_count": 2,
   "id": "ff2eb3ca",
   "metadata": {},
   "outputs": [],
   "source": [
    "import pandas as pd \n",
    "\n",
    "df = pd.read_csv('data/cancer_reg.csv')"
   ]
  },
  {
   "cell_type": "code",
   "execution_count": 3,
   "id": "d94f6cfa",
   "metadata": {},
   "outputs": [],
   "source": [
    "from scipy import stats as st\n",
    "\n"
   ]
  },
  {
   "cell_type": "code",
   "execution_count": 4,
   "id": "80303bc4",
   "metadata": {},
   "outputs": [
    {
     "data": {
      "text/plain": [
       "Index(['avgAnnCount', 'avgDeathsPerYear', 'TARGET_deathRate', 'incidenceRate',\n",
       "       'medIncome', 'popEst2015', 'povertyPercent', 'studyPerCap', 'binnedInc',\n",
       "       'MedianAge', 'MedianAgeMale', 'MedianAgeFemale', 'Geography',\n",
       "       'AvgHouseholdSize', 'PercentMarried', 'PctNoHS18_24', 'PctHS18_24',\n",
       "       'PctSomeCol18_24', 'PctBachDeg18_24', 'PctHS25_Over',\n",
       "       'PctBachDeg25_Over', 'PctEmployed16_Over', 'PctUnemployed16_Over',\n",
       "       'PctPrivateCoverage', 'PctPrivateCoverageAlone', 'PctEmpPrivCoverage',\n",
       "       'PctPublicCoverage', 'PctPublicCoverageAlone', 'PctWhite', 'PctBlack',\n",
       "       'PctAsian', 'PctOtherRace', 'PctMarriedHouseholds', 'BirthRate'],\n",
       "      dtype='object')"
      ]
     },
     "execution_count": 4,
     "metadata": {},
     "output_type": "execute_result"
    }
   ],
   "source": [
    "df.columns"
   ]
  },
  {
   "cell_type": "code",
   "execution_count": 7,
   "id": "d48b2a16",
   "metadata": {},
   "outputs": [
    {
     "data": {
      "text/plain": [
       "1.7080066878788007e-15"
      ]
     },
     "execution_count": 7,
     "metadata": {},
     "output_type": "execute_result"
    }
   ],
   "source": [
    "st.pearsonr(df['TARGET_deathRate'], df['avgAnnCount'])"
   ]
  },
  {
   "cell_type": "code",
   "execution_count": 20,
   "id": "63191f42",
   "metadata": {},
   "outputs": [],
   "source": [
    "df = df.select_dtypes(include='number')\n",
    "df = df.dropna()"
   ]
  },
  {
   "cell_type": "code",
   "execution_count": 22,
   "id": "49c6329a",
   "metadata": {},
   "outputs": [
    {
     "data": {
      "text/plain": [
       "Index(['avgAnnCount', 'avgDeathsPerYear', 'TARGET_deathRate', 'incidenceRate',\n",
       "       'medIncome', 'popEst2015', 'povertyPercent', 'studyPerCap', 'MedianAge',\n",
       "       'MedianAgeMale', 'MedianAgeFemale', 'AvgHouseholdSize',\n",
       "       'PercentMarried', 'PctNoHS18_24', 'PctHS18_24', 'PctSomeCol18_24',\n",
       "       'PctBachDeg18_24', 'PctHS25_Over', 'PctBachDeg25_Over',\n",
       "       'PctEmployed16_Over', 'PctUnemployed16_Over', 'PctPrivateCoverage',\n",
       "       'PctPrivateCoverageAlone', 'PctEmpPrivCoverage', 'PctPublicCoverage',\n",
       "       'PctPublicCoverageAlone', 'PctWhite', 'PctBlack', 'PctAsian',\n",
       "       'PctOtherRace', 'PctMarriedHouseholds', 'BirthRate'],\n",
       "      dtype='object')"
      ]
     },
     "execution_count": 22,
     "metadata": {},
     "output_type": "execute_result"
    }
   ],
   "source": [
    "df.columns"
   ]
  },
  {
   "cell_type": "code",
   "execution_count": 42,
   "id": "3b5a2cb6",
   "metadata": {},
   "outputs": [],
   "source": [
    "one_list = []\n",
    "two_list = []\n",
    "\n",
    "for i in df.columns:\n",
    "    one_list.append(st.pearsonr(df['TARGET_deathRate'], df[i])[0])\n",
    "    two_list.append(i)"
   ]
  },
  {
   "cell_type": "code",
   "execution_count": 46,
   "id": "67bdd0fb",
   "metadata": {},
   "outputs": [
    {
     "data": {
      "text/html": [
       "<div>\n",
       "<style scoped>\n",
       "    .dataframe tbody tr th:only-of-type {\n",
       "        vertical-align: middle;\n",
       "    }\n",
       "\n",
       "    .dataframe tbody tr th {\n",
       "        vertical-align: top;\n",
       "    }\n",
       "\n",
       "    .dataframe thead th {\n",
       "        text-align: right;\n",
       "    }\n",
       "</style>\n",
       "<table border=\"1\" class=\"dataframe\">\n",
       "  <thead>\n",
       "    <tr style=\"text-align: right;\">\n",
       "      <th></th>\n",
       "      <th>0</th>\n",
       "      <th>1</th>\n",
       "    </tr>\n",
       "  </thead>\n",
       "  <tbody>\n",
       "    <tr>\n",
       "      <th>2</th>\n",
       "      <td>1.000000</td>\n",
       "      <td>TARGET_deathRate</td>\n",
       "    </tr>\n",
       "    <tr>\n",
       "      <th>25</th>\n",
       "      <td>0.388474</td>\n",
       "      <td>PctPublicCoverageAlone</td>\n",
       "    </tr>\n",
       "    <tr>\n",
       "      <th>17</th>\n",
       "      <td>0.379753</td>\n",
       "      <td>PctHS25_Over</td>\n",
       "    </tr>\n",
       "    <tr>\n",
       "      <th>3</th>\n",
       "      <td>0.376033</td>\n",
       "      <td>incidenceRate</td>\n",
       "    </tr>\n",
       "    <tr>\n",
       "      <th>6</th>\n",
       "      <td>0.366102</td>\n",
       "      <td>povertyPercent</td>\n",
       "    </tr>\n",
       "    <tr>\n",
       "      <th>24</th>\n",
       "      <td>0.346525</td>\n",
       "      <td>PctPublicCoverage</td>\n",
       "    </tr>\n",
       "    <tr>\n",
       "      <th>20</th>\n",
       "      <td>0.319756</td>\n",
       "      <td>PctUnemployed16_Over</td>\n",
       "    </tr>\n",
       "    <tr>\n",
       "      <th>27</th>\n",
       "      <td>0.258829</td>\n",
       "      <td>PctBlack</td>\n",
       "    </tr>\n",
       "    <tr>\n",
       "      <th>14</th>\n",
       "      <td>0.254029</td>\n",
       "      <td>PctHS18_24</td>\n",
       "    </tr>\n",
       "    <tr>\n",
       "      <th>13</th>\n",
       "      <td>0.078894</td>\n",
       "      <td>PctNoHS18_24</td>\n",
       "    </tr>\n",
       "    <tr>\n",
       "      <th>10</th>\n",
       "      <td>0.019737</td>\n",
       "      <td>MedianAgeFemale</td>\n",
       "    </tr>\n",
       "    <tr>\n",
       "      <th>8</th>\n",
       "      <td>-0.011419</td>\n",
       "      <td>MedianAge</td>\n",
       "    </tr>\n",
       "    <tr>\n",
       "      <th>9</th>\n",
       "      <td>-0.026774</td>\n",
       "      <td>MedianAgeMale</td>\n",
       "    </tr>\n",
       "    <tr>\n",
       "      <th>7</th>\n",
       "      <td>-0.033589</td>\n",
       "      <td>studyPerCap</td>\n",
       "    </tr>\n",
       "    <tr>\n",
       "      <th>31</th>\n",
       "      <td>-0.051311</td>\n",
       "      <td>BirthRate</td>\n",
       "    </tr>\n",
       "    <tr>\n",
       "      <th>11</th>\n",
       "      <td>-0.062568</td>\n",
       "      <td>AvgHouseholdSize</td>\n",
       "    </tr>\n",
       "    <tr>\n",
       "      <th>1</th>\n",
       "      <td>-0.096510</td>\n",
       "      <td>avgDeathsPerYear</td>\n",
       "    </tr>\n",
       "    <tr>\n",
       "      <th>5</th>\n",
       "      <td>-0.109513</td>\n",
       "      <td>popEst2015</td>\n",
       "    </tr>\n",
       "    <tr>\n",
       "      <th>0</th>\n",
       "      <td>-0.128587</td>\n",
       "      <td>avgAnnCount</td>\n",
       "    </tr>\n",
       "    <tr>\n",
       "      <th>26</th>\n",
       "      <td>-0.158205</td>\n",
       "      <td>PctWhite</td>\n",
       "    </tr>\n",
       "    <tr>\n",
       "      <th>15</th>\n",
       "      <td>-0.158445</td>\n",
       "      <td>PctSomeCol18_24</td>\n",
       "    </tr>\n",
       "    <tr>\n",
       "      <th>28</th>\n",
       "      <td>-0.199772</td>\n",
       "      <td>PctAsian</td>\n",
       "    </tr>\n",
       "    <tr>\n",
       "      <th>29</th>\n",
       "      <td>-0.209761</td>\n",
       "      <td>PctOtherRace</td>\n",
       "    </tr>\n",
       "    <tr>\n",
       "      <th>23</th>\n",
       "      <td>-0.228443</td>\n",
       "      <td>PctEmpPrivCoverage</td>\n",
       "    </tr>\n",
       "    <tr>\n",
       "      <th>12</th>\n",
       "      <td>-0.229908</td>\n",
       "      <td>PercentMarried</td>\n",
       "    </tr>\n",
       "    <tr>\n",
       "      <th>30</th>\n",
       "      <td>-0.291756</td>\n",
       "      <td>PctMarriedHouseholds</td>\n",
       "    </tr>\n",
       "    <tr>\n",
       "      <th>16</th>\n",
       "      <td>-0.296988</td>\n",
       "      <td>PctBachDeg18_24</td>\n",
       "    </tr>\n",
       "    <tr>\n",
       "      <th>22</th>\n",
       "      <td>-0.322015</td>\n",
       "      <td>PctPrivateCoverageAlone</td>\n",
       "    </tr>\n",
       "    <tr>\n",
       "      <th>21</th>\n",
       "      <td>-0.337199</td>\n",
       "      <td>PctPrivateCoverage</td>\n",
       "    </tr>\n",
       "    <tr>\n",
       "      <th>19</th>\n",
       "      <td>-0.372085</td>\n",
       "      <td>PctEmployed16_Over</td>\n",
       "    </tr>\n",
       "    <tr>\n",
       "      <th>4</th>\n",
       "      <td>-0.377156</td>\n",
       "      <td>medIncome</td>\n",
       "    </tr>\n",
       "    <tr>\n",
       "      <th>18</th>\n",
       "      <td>-0.440073</td>\n",
       "      <td>PctBachDeg25_Over</td>\n",
       "    </tr>\n",
       "  </tbody>\n",
       "</table>\n",
       "</div>"
      ],
      "text/plain": [
       "           0                        1\n",
       "2   1.000000         TARGET_deathRate\n",
       "25  0.388474   PctPublicCoverageAlone\n",
       "17  0.379753             PctHS25_Over\n",
       "3   0.376033            incidenceRate\n",
       "6   0.366102           povertyPercent\n",
       "24  0.346525        PctPublicCoverage\n",
       "20  0.319756     PctUnemployed16_Over\n",
       "27  0.258829                 PctBlack\n",
       "14  0.254029               PctHS18_24\n",
       "13  0.078894             PctNoHS18_24\n",
       "10  0.019737          MedianAgeFemale\n",
       "8  -0.011419                MedianAge\n",
       "9  -0.026774            MedianAgeMale\n",
       "7  -0.033589              studyPerCap\n",
       "31 -0.051311                BirthRate\n",
       "11 -0.062568         AvgHouseholdSize\n",
       "1  -0.096510         avgDeathsPerYear\n",
       "5  -0.109513               popEst2015\n",
       "0  -0.128587              avgAnnCount\n",
       "26 -0.158205                 PctWhite\n",
       "15 -0.158445          PctSomeCol18_24\n",
       "28 -0.199772                 PctAsian\n",
       "29 -0.209761             PctOtherRace\n",
       "23 -0.228443       PctEmpPrivCoverage\n",
       "12 -0.229908           PercentMarried\n",
       "30 -0.291756     PctMarriedHouseholds\n",
       "16 -0.296988          PctBachDeg18_24\n",
       "22 -0.322015  PctPrivateCoverageAlone\n",
       "21 -0.337199       PctPrivateCoverage\n",
       "19 -0.372085       PctEmployed16_Over\n",
       "4  -0.377156                medIncome\n",
       "18 -0.440073        PctBachDeg25_Over"
      ]
     },
     "execution_count": 46,
     "metadata": {},
     "output_type": "execute_result"
    }
   ],
   "source": [
    "new_list = zip(one_list, two_list)\n",
    "new_df = pd.DataFrame(list(new_list))\n",
    "new_df.sort_values(0, ascending = False)"
   ]
  },
  {
   "cell_type": "code",
   "execution_count": null,
   "id": "2bf2a0af",
   "metadata": {},
   "outputs": [],
   "source": []
  }
 ],
 "metadata": {
  "kernelspec": {
   "display_name": "Python 3",
   "language": "python",
   "name": "python3"
  },
  "language_info": {
   "codemirror_mode": {
    "name": "ipython",
    "version": 3
   },
   "file_extension": ".py",
   "mimetype": "text/x-python",
   "name": "python",
   "nbconvert_exporter": "python",
   "pygments_lexer": "ipython3",
   "version": "3.8.8"
  }
 },
 "nbformat": 4,
 "nbformat_minor": 5
}
