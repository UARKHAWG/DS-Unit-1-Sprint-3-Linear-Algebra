{
 "cells": [
  {
   "cell_type": "markdown",
   "id": "94e22ce2",
   "metadata": {},
   "source": [
    "# Bias and Variance"
   ]
  },
  {
   "cell_type": "markdown",
   "id": "110c6982",
   "metadata": {},
   "source": [
    "## Overview\n",
    "> * Objective 01 - Define and extract bias\n",
    "> * Objective 02 - Define and determine variance\n",
    "> * Objective 03 - Differentiate overfit vs underfit models\n",
    "> * Objective 04 - Consider the bias/variance tradeoff in linear regression"
   ]
  },
  {
   "cell_type": "markdown",
   "id": "8a01c0bd",
   "metadata": {},
   "source": [
    "Throughout this week, we've learned:\n",
    "- How to use OLS to fit a model \n",
    "- How to determine the correlation between independent features. "
   ]
  },
  {
   "cell_type": "markdown",
   "id": "8986492b",
   "metadata": {},
   "source": [
    "One thing we haven't discussed is how to measure teh performance of a regression model. \n",
    "- What makes a good model? \n",
    "- What makes a bad model? \n",
    "- Between two models, which should we pick and why? \n"
   ]
  },
  {
   "cell_type": "markdown",
   "id": "b8311303",
   "metadata": {},
   "source": [
    "###  Four Assumptions of Linear Regression\n",
    "(This may come up in interviews) \n",
    "\n",
    "1. Linear relationship: There exists a linear relationship between the independent variable, x, and the dependent variable, y.\n",
    "\n",
    "2. Independence: The residuals are independent. In particular, there is no correlation between consecutive residuals in time series data.\n",
    "\n",
    "3. Homoscedasticity: The residuals have constant variance at every level of x.\n",
    "\n",
    "4. Normality: The residuals of the model are normally distributed.\n",
    "\n",
    "[Source](https://www.statology.org/linear-regression-assumptions/)"
   ]
  },
  {
   "cell_type": "code",
   "execution_count": 3,
   "id": "f2881192",
   "metadata": {},
   "outputs": [],
   "source": [
    "import statsmodels.api as sm\n",
    "from statsmodels.formula.api import ols"
   ]
  },
  {
   "cell_type": "code",
   "execution_count": 5,
   "id": "2e8b67ad",
   "metadata": {},
   "outputs": [
    {
     "data": {
      "text/html": [
       "<div>\n",
       "<style scoped>\n",
       "    .dataframe tbody tr th:only-of-type {\n",
       "        vertical-align: middle;\n",
       "    }\n",
       "\n",
       "    .dataframe tbody tr th {\n",
       "        vertical-align: top;\n",
       "    }\n",
       "\n",
       "    .dataframe thead th {\n",
       "        text-align: right;\n",
       "    }\n",
       "</style>\n",
       "<table border=\"1\" class=\"dataframe\">\n",
       "  <thead>\n",
       "    <tr style=\"text-align: right;\">\n",
       "      <th></th>\n",
       "      <th>Site</th>\n",
       "      <th>Time</th>\n",
       "      <th>Depth</th>\n",
       "      <th>Lime</th>\n",
       "      <th>Age</th>\n",
       "      <th>Nitro</th>\n",
       "      <th>Oil</th>\n",
       "    </tr>\n",
       "  </thead>\n",
       "  <tbody>\n",
       "    <tr>\n",
       "      <th>3</th>\n",
       "      <td>1</td>\n",
       "      <td>71.8</td>\n",
       "      <td>7.6</td>\n",
       "      <td>1</td>\n",
       "      <td>65.0</td>\n",
       "      <td>3.88</td>\n",
       "      <td>0</td>\n",
       "    </tr>\n",
       "    <tr>\n",
       "      <th>4</th>\n",
       "      <td>1</td>\n",
       "      <td>70.6</td>\n",
       "      <td>7.5</td>\n",
       "      <td>1</td>\n",
       "      <td>42.0</td>\n",
       "      <td>3.53</td>\n",
       "      <td>0</td>\n",
       "    </tr>\n",
       "    <tr>\n",
       "      <th>5</th>\n",
       "      <td>1</td>\n",
       "      <td>68.0</td>\n",
       "      <td>7.0</td>\n",
       "      <td>1</td>\n",
       "      <td>28.0</td>\n",
       "      <td>3.93</td>\n",
       "      <td>0</td>\n",
       "    </tr>\n",
       "    <tr>\n",
       "      <th>6</th>\n",
       "      <td>1</td>\n",
       "      <td>71.6</td>\n",
       "      <td>8.0</td>\n",
       "      <td>1</td>\n",
       "      <td>35.0</td>\n",
       "      <td>3.88</td>\n",
       "      <td>0</td>\n",
       "    </tr>\n",
       "    <tr>\n",
       "      <th>7</th>\n",
       "      <td>1</td>\n",
       "      <td>70.2</td>\n",
       "      <td>6.0</td>\n",
       "      <td>1</td>\n",
       "      <td>44.0</td>\n",
       "      <td>3.64</td>\n",
       "      <td>0</td>\n",
       "    </tr>\n",
       "  </tbody>\n",
       "</table>\n",
       "</div>"
      ],
      "text/plain": [
       "   Site  Time  Depth  Lime   Age  Nitro  Oil\n",
       "3     1  71.8    7.6     1  65.0   3.88    0\n",
       "4     1  70.6    7.5     1  42.0   3.53    0\n",
       "5     1  68.0    7.0     1  28.0   3.93    0\n",
       "6     1  71.6    8.0     1  35.0   3.88    0\n",
       "7     1  70.2    6.0     1  44.0   3.64    0"
      ]
     },
     "execution_count": 5,
     "metadata": {},
     "output_type": "execute_result"
    }
   ],
   "source": [
    "#Import the Longbones.csv dataset from a URL and print the first few rows\n",
    "\n",
    "import pandas as pd\n",
    "import numpy as np\n",
    "\n",
    "\n",
    "data_url = 'https://raw.githubusercontent.com/LambdaSchool/data-science-practice-datasets/main/unit_1/Longbones/Longbones.csv'\n",
    "\n",
    "df = pd.read_csv(data_url, skipinitialspace=True, header=0)\n",
    "\n",
    "#Drop records with NAs and rename the dataset longbones\n",
    "\n",
    "longbones = df.dropna()\n",
    "\n",
    "longbones.head()"
   ]
  },
  {
   "cell_type": "code",
   "execution_count": 6,
   "id": "ecb7a1ea",
   "metadata": {},
   "outputs": [
    {
     "name": "stdout",
     "output_type": "stream",
     "text": [
      "                            OLS Regression Results                            \n",
      "==============================================================================\n",
      "Dep. Variable:                   Time   R-squared:                       0.450\n",
      "Model:                            OLS   Adj. R-squared:                  0.433\n",
      "Method:                 Least Squares   F-statistic:                     26.96\n",
      "Date:                Sun, 09 Jan 2022   Prob (F-statistic):           1.05e-05\n",
      "Time:                        15:10:39   Log-Likelihood:                -141.08\n",
      "No. Observations:                  35   AIC:                             286.2\n",
      "Df Residuals:                      33   BIC:                             289.3\n",
      "Df Model:                           1                                         \n",
      "Covariance Type:            nonrobust                                         \n",
      "==============================================================================\n",
      "                 coef    std err          t      P>|t|      [0.025      0.975]\n",
      "------------------------------------------------------------------------------\n",
      "Intercept    316.8053     50.679      6.251      0.000     213.698     419.912\n",
      "Nitro        -69.2427     13.336     -5.192      0.000     -96.375     -42.110\n",
      "==============================================================================\n",
      "Omnibus:                        5.682   Durbin-Watson:                   1.325\n",
      "Prob(Omnibus):                  0.058   Jarque-Bera (JB):                2.336\n",
      "Skew:                           0.294   Prob(JB):                        0.311\n",
      "Kurtosis:                       1.880   Cond. No.                         86.8\n",
      "==============================================================================\n",
      "\n",
      "Notes:\n",
      "[1] Standard Errors assume that the covariance matrix of the errors is correctly specified.\n"
     ]
    }
   ],
   "source": [
    "import statsmodels.api as sm\n",
    "\n",
    "#Enter the model in the format Y ~ X\n",
    "\n",
    "model = ols('Time ~ Nitro', data=longbones).fit()\n",
    "\n",
    "#Print the model summary\n",
    "print(model.summary())"
   ]
  },
  {
   "cell_type": "code",
   "execution_count": 10,
   "id": "099b4489",
   "metadata": {},
   "outputs": [
    {
     "data": {
      "image/png": "[encoded data removed]",
      "text/plain": [
       "<Figure size 432x288 with 1 Axes>"
      ]
     },
     "execution_count": 10,
     "metadata": {},
     "output_type": "execute_result"
    },
    {
     "data": {
      "image/png": "[encoded data removed]",
      "text/plain": [
       "<Figure size 432x288 with 1 Axes>"
      ]
     },
     "metadata": {
      "needs_background": "light"
     },
     "output_type": "display_data"
    }
   ],
   "source": [
    "sm.qqplot(longbones['Nitro'])"
   ]
  },
  {
   "cell_type": "markdown",
   "id": "dcf763aa",
   "metadata": {},
   "source": [
    "We calculated a specific data point's residual in a linear model:\n",
    "\n",
    "$true - predicted = residual$ \n",
    "\n",
    "How else can we you use residuals to determine how well a model works? \n",
    "\n",
    "## $SSE = \\sum_{n=1}^n{(y_i - \\hat{y_i})^2}$\n",
    "\n"
   ]
  },
  {
   "cell_type": "code",
   "execution_count": null,
   "id": "17eb1199",
   "metadata": {},
   "outputs": [],
   "source": []
  }
 ],
 "metadata": {
  "kernelspec": {
   "display_name": "Python 3",
   "language": "python",
   "name": "python3"
  },
  "language_info": {
   "codemirror_mode": {
    "name": "ipython",
    "version": 3
   },
   "file_extension": ".py",
   "mimetype": "text/x-python",
   "name": "python",
   "nbconvert_exporter": "python",
   "pygments_lexer": "ipython3",
   "version": "3.8.8"
  }
 },
 "nbformat": 4,
 "nbformat_minor": 5
}
